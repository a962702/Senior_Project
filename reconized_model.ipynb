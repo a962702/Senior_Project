{
  "cells": [
    {
      "cell_type": "markdown",
      "metadata": {
        "id": "view-in-github",
        "colab_type": "text"
      },
      "source": [
        "<a href=\"https://colab.research.google.com/github/j28302830/Senior_Project/blob/main/reconized_model.ipynb\" target=\"_parent\"><img src=\"https://colab.research.google.com/assets/colab-badge.svg\" alt=\"Open In Colab\"/></a>"
      ]
    },
    {
      "cell_type": "markdown",
      "metadata": {
        "id": "Y2fj9xgNFy1H"
      },
      "source": [
        "# Download Samples and Models file"
      ]
    },
    {
      "cell_type": "code",
      "execution_count": 35,
      "metadata": {
        "colab": {
          "base_uri": "https://localhost:8080/"
        },
        "id": "Vjh7QysoGGly",
        "outputId": "0927779f-7e8a-41a3-b97c-ac09417da7f2"
      },
      "outputs": [
        {
          "output_type": "stream",
          "name": "stdout",
          "text": [
            "--2022-05-12 07:54:01--  http://dataset.tlm.unavarra.es/ransomware/samplesAndModels.tar.xz\n",
            "Resolving dataset.tlm.unavarra.es (dataset.tlm.unavarra.es)... 130.206.160.87\n",
            "Connecting to dataset.tlm.unavarra.es (dataset.tlm.unavarra.es)|130.206.160.87|:80... connected.\n",
            "HTTP request sent, awaiting response... 200 OK\n",
            "Length: 41519408 (40M) [application/x-xz]\n",
            "Saving to: ‘samplesAndModels.tar.xz.1’\n",
            "\n",
            "samplesAndModels.ta 100%[===================>]  39.60M  9.87MB/s    in 4.7s    \n",
            "\n",
            "2022-05-12 07:54:06 (8.34 MB/s) - ‘samplesAndModels.tar.xz.1’ saved [41519408/41519408]\n",
            "\n"
          ]
        }
      ],
      "source": [
        "!wget http://dataset.tlm.unavarra.es/ransomware/samplesAndModels.tar.xz\n",
        "!tar -Jxvf /content/samplesAndModels.tar.xz &> /dev/null"
      ]
    },
    {
      "cell_type": "markdown",
      "metadata": {
        "id": "6_Ho5k4cIa5k"
      },
      "source": [
        "# Import Package"
      ]
    },
    {
      "cell_type": "code",
      "execution_count": 36,
      "metadata": {
        "id": "aBO0NnXOIery"
      },
      "outputs": [],
      "source": [
        "import tensorflow as tf\n",
        "import keras\n",
        "import glob\n",
        "import numpy as np\n",
        "from pickle import load\n",
        "import joblib "
      ]
    },
    {
      "cell_type": "markdown",
      "metadata": {
        "id": "uES_q4V7X2FJ"
      },
      "source": [
        "# Predefined Function"
      ]
    },
    {
      "cell_type": "code",
      "execution_count": 37,
      "metadata": {
        "id": "4DnoKttCUqgU"
      },
      "outputs": [],
      "source": [
        "def load_sample(local_path):\n",
        "  filenames = glob.glob(local_path + \"/*.txt\")\n",
        "  for i,filename in enumerate(filenames):\n",
        "    if i == 0:\n",
        "      x = np.loadtxt(filename, delimiter=',', dtype = 'float32')\n",
        "    else: \n",
        "      ds = np.loadtxt(filename, delimiter=',', dtype = 'float32')\n",
        "      x = np.concatenate((x, ds), axis=0)\n",
        "\n",
        "  return x"
      ]
    },
    {
      "cell_type": "code",
      "execution_count": 38,
      "metadata": {
        "id": "Oa6ruX_IOzBJ"
      },
      "outputs": [],
      "source": [
        "def metrics(model , x, y):\n",
        "  predict = model.predict(x)\n",
        "  predict[predict >= 0.99] = 1\n",
        "  predict[predict < 0.99] = 0\n",
        "\n",
        "  true_values = y\n",
        "  predictions = predict\n",
        "  \n",
        "  TP = ((predictions == 1) & (true_values == 1)).sum()\n",
        "  FP = ((predictions == 1) & (true_values == 0)).sum()\n",
        "  TN = ((predictions == 0) & (true_values == 0)).sum()\n",
        "  FN = ((predictions == 0) & (true_values == 1)).sum()\n",
        "\n",
        "  accuracy = (TP+TN) / (TP+FP+TN+FN)\n",
        "  precision = TP / (TP+FP)\n",
        "  recall = TP / (TP+FN)\n",
        "  f_measure = 2*(precision*recall/(precision+recall))\n",
        "  temp = ((TP+FP)*(TP+FN)*(TN+FP)*(TN+FN))** 0.5\n",
        "  phi_coefficient = (TP*TN-FP*FN) / temp\n",
        "\n",
        "  evaluate = model.evaluate(x=x, y=y)\n",
        "\n",
        "  return [evaluate[1], accuracy, precision, recall, f_measure, phi_coefficient]"
      ]
    },
    {
      "cell_type": "code",
      "source": [
        "def preprocessing(sample):\n",
        "  scaler = joblib.load('/content/scaler.scaler')\n",
        "\n",
        "  index = list(range(0, 30))\n",
        "\n",
        "  label = np.delete(sample, index + [31], axis=1)\n",
        "  feature = np.delete(sample, [30,31], axis=1)\n",
        "  feature_10X3 = np.reshape(feature, (feature.shape[0], 10, 3))\n",
        "  return label, feature, feature_10X3"
      ],
      "metadata": {
        "id": "sx9Gggb0h-Kj"
      },
      "execution_count": 39,
      "outputs": []
    },
    {
      "cell_type": "markdown",
      "metadata": {
        "id": "z_S1CHvjGIFu"
      },
      "source": [
        "# Load NN, CNN, and LSTM model"
      ]
    },
    {
      "cell_type": "code",
      "execution_count": 40,
      "metadata": {
        "colab": {
          "base_uri": "https://localhost:8080/"
        },
        "id": "DcgHv9NC7w7e",
        "outputId": "357798da-c7af-4bdd-d129-1808ff6e9197"
      },
      "outputs": [
        {
          "output_type": "stream",
          "name": "stdout",
          "text": [
            "WARNING:tensorflow:SavedModel saved prior to TF 2.5 detected when loading Keras model. Please ensure that you are saving the model with model.save() or tf.keras.models.save_model(), *NOT* tf.saved_model.save(). To confirm, there should be a file named \"keras_metadata.pb\" in the SavedModel directory.\n",
            "WARNING:tensorflow:SavedModel saved prior to TF 2.5 detected when loading Keras model. Please ensure that you are saving the model with model.save() or tf.keras.models.save_model(), *NOT* tf.saved_model.save(). To confirm, there should be a file named \"keras_metadata.pb\" in the SavedModel directory.\n",
            "WARNING:tensorflow:SavedModel saved prior to TF 2.5 detected when loading Keras model. Please ensure that you are saving the model with model.save() or tf.keras.models.save_model(), *NOT* tf.saved_model.save(). To confirm, there should be a file named \"keras_metadata.pb\" in the SavedModel directory.\n",
            "WARNING:tensorflow:SavedModel saved prior to TF 2.5 detected when loading Keras model. Please ensure that you are saving the model with model.save() or tf.keras.models.save_model(), *NOT* tf.saved_model.save(). To confirm, there should be a file named \"keras_metadata.pb\" in the SavedModel directory.\n"
          ]
        }
      ],
      "source": [
        "model_NN = tf.keras.models.load_model('/content/NN_CNN_LSTM_Comparison/NN')\n",
        "model_CNN = tf.keras.models.load_model('/content/NN_CNN_LSTM_Comparison/CNN')\n",
        "model_LSTM = tf.keras.models.load_model('/content/NN_CNN_LSTM_Comparison/LSTM')\n",
        "chronologicalModel = tf.keras.models.load_model('/content/chronologicalModel/models/T1N10S10_modelo94.model')"
      ]
    },
    {
      "cell_type": "markdown",
      "metadata": {
        "id": "cv1nGsFRQPya"
      },
      "source": [
        "JSON"
      ]
    },
    {
      "cell_type": "code",
      "execution_count": 41,
      "metadata": {
        "id": "K2L-0RkHQKwC"
      },
      "outputs": [],
      "source": [
        "json_file = open('/content/NN.json', 'r')\n",
        "loaded_model_json = json_file.read()\n",
        "json_file.close()\n",
        "loaded_model = tf.keras.models.model_from_json(loaded_model_json)"
      ]
    },
    {
      "cell_type": "markdown",
      "metadata": {
        "id": "gRu9WhzCUByU"
      },
      "source": [
        "# Load sample and scaler"
      ]
    },
    {
      "cell_type": "code",
      "execution_count": 42,
      "metadata": {
        "id": "hQVKnMMq-VkP",
        "colab": {
          "base_uri": "https://localhost:8080/"
        },
        "outputId": "4edccf33-3e6f-4fd4-a8c5-c85b44e77edf"
      },
      "outputs": [
        {
          "output_type": "stream",
          "name": "stderr",
          "text": [
            "/usr/local/lib/python3.7/dist-packages/sklearn/base.py:338: UserWarning: Trying to unpickle estimator StandardScaler from version 0.23.2 when using version 1.0.2. This might lead to breaking code or invalid results. Use at your own risk. For more info please refer to:\n",
            "https://scikit-learn.org/stable/modules/model_persistence.html#security-maintainability-limitations\n",
            "  UserWarning,\n"
          ]
        }
      ],
      "source": [
        "scaler = joblib.load('/content/scaler.scaler')\n",
        "test = load_sample(local_path = r'/content/samples/ransomwareSamples_test')\n",
        "train = load_sample(local_path = r'/content/samples/ransomwareSamples_train')\n",
        "all_ransomware = np.concatenate( (train, test), axis = 0 )\n",
        "#user = load_sample(local_path = r'/content/samples/userSamples')\n",
        "day_zero = np.loadtxt('/content/samples/userSamples/day0.txt', delimiter=',', dtype = 'float32')"
      ]
    },
    {
      "cell_type": "markdown",
      "metadata": {
        "id": "XklgZaqKCnFA"
      },
      "source": [
        "# Preprocessing Sample and Run Model "
      ]
    },
    {
      "cell_type": "markdown",
      "source": [
        "### day0 and all ransomware sample"
      ],
      "metadata": {
        "id": "satPv-OzjJhy"
      }
    },
    {
      "cell_type": "code",
      "source": [
        "index = list(range(0, 30))\n",
        "\n",
        "label = np.delete(all_ransomware, index + [31], axis=1)\n",
        "feature = np.delete(all_ransomware, [30,31], axis=1)\n",
        "feature_10X3 = np.reshape(feature, (feature.shape[0], 10, 3))\n",
        "\n",
        "label2 = np.delete(day_zero, index, axis=1)\n",
        "feature2 = np.delete(day_zero, [30], axis=1)\n",
        "\n",
        "label = np.concatenate( (label, label2), axis = 0 )\n",
        "feature = np.concatenate( (feature, feature2), axis = 0 )\n",
        "\n",
        "feature_scaled = scaler.transform(feature)\n",
        "feature_scaled_10X3 = np.reshape(feature_scaled, (feature_scaled.shape[0], 10, 3))"
      ],
      "metadata": {
        "id": "ISCUQxwtjJJR"
      },
      "execution_count": 43,
      "outputs": []
    },
    {
      "cell_type": "code",
      "source": [
        "NN = metrics(model_NN, x=feature_scaled, y=label)\n",
        "CNN = metrics(model_CNN, x=feature_scaled_10X3, y=label)\n",
        "LSTM = metrics(model_LSTM, x=feature_scaled_10X3, y=label)\n",
        "print(\"NN:\\nevalute(): %f vs accuracy(): %f\" %(NN[0], NN[1]) )\n",
        "print(\"CNN:\\nevalute(): %f vs accuracy(): %f\" %(CNN[0], CNN[1]) )\n",
        "print(\"LSTM:\\nevalute(): %f vs accuracy(): %f\" %(LSTM[0], LSTM[1]) )"
      ],
      "metadata": {
        "colab": {
          "base_uri": "https://localhost:8080/"
        },
        "id": "VZJmF9tWuB5Y",
        "outputId": "31d0a627-6f32-4300-c2ab-c980bae19199"
      },
      "execution_count": 44,
      "outputs": [
        {
          "output_type": "stream",
          "name": "stderr",
          "text": [
            "/usr/local/lib/python3.7/dist-packages/ipykernel_launcher.py:18: RuntimeWarning: overflow encountered in long_scalars\n",
            "/usr/local/lib/python3.7/dist-packages/ipykernel_launcher.py:18: RuntimeWarning: invalid value encountered in power\n"
          ]
        },
        {
          "output_type": "stream",
          "name": "stdout",
          "text": [
            "31611/31611 [==============================] - 58s 2ms/step - loss: 1.8139 - accuracy: 0.9668\n",
            "31611/31611 [==============================] - 51s 2ms/step - loss: 0.4569 - accuracy: 0.9664\n",
            "31611/31611 [==============================] - 107s 3ms/step - loss: 0.4148 - accuracy: 0.9658\n",
            "NN:\n",
            "evalute(): 0.966847 vs accuracy(): 0.966149\n",
            "CNN:\n",
            "evalute(): 0.966368 vs accuracy(): 0.965596\n",
            "LSTM:\n",
            "evalute(): 0.965845 vs accuracy(): 0.965573\n"
          ]
        }
      ]
    },
    {
      "cell_type": "markdown",
      "source": [
        "### test sample without low activity data"
      ],
      "metadata": {
        "id": "mfl47sFycapk"
      }
    },
    {
      "cell_type": "code",
      "source": [
        "index = list(range(0, 30))\n",
        "\n",
        "label = np.delete(test, index + [31], axis=1)\n",
        "feature = np.delete(test, [30,31], axis=1)\n",
        "\n",
        "count = np.count_nonzero(feature == 0, axis=1)\n",
        "low_activity = np.where( count >= (feature.shape[1]/3) )\n",
        "\n",
        "label = np.delete(label, low_activity, axis=0)\n",
        "feature = np.delete(feature, low_activity, axis=0)\n",
        "\n",
        "\n",
        "\n",
        "feature_10X3 = np.reshape(feature, (feature.shape[0], 10, 3))\n",
        "feature_scaled = scaler.transform(feature)\n",
        "feature_scaled_10X3 = np.reshape(feature_scaled, (feature_scaled.shape[0], 10, 3))"
      ],
      "metadata": {
        "id": "Z8IxGZxZgB4S"
      },
      "execution_count": 45,
      "outputs": []
    },
    {
      "cell_type": "code",
      "source": [
        "NN = metrics(model_NN, x=feature_scaled, y=label)\n",
        "CNN = metrics(model_CNN, x=feature_scaled_10X3, y=label)\n",
        "LSTM = metrics(model_LSTM, x=feature_scaled_10X3, y=label)\n",
        "chronological = metrics(model_LSTM, x=feature_scaled_10X3, y=label)\n",
        "print(\"NN:\\nevalute(): %f vs accuracy(): %f\" %(NN[0], NN[1]) )\n",
        "print(\"CNN:\\nevalute(): %f vs accuracy(): %f\" %(CNN[0], CNN[1]) )\n",
        "print(\"LSTM:\\nevalute(): %f vs accuracy(): %f\" %(LSTM[0], LSTM[1]) )\n",
        "print(\"chronological:\\nevalute(): %f vs accuracy(): %f\" %(chronological[0], chronological[1]) )"
      ],
      "metadata": {
        "colab": {
          "base_uri": "https://localhost:8080/"
        },
        "id": "1QsCaTT4uDoq",
        "outputId": "de05c8ed-acf8-4d43-b287-3128a56ca199"
      },
      "execution_count": 46,
      "outputs": [
        {
          "output_type": "stream",
          "name": "stdout",
          "text": [
            " 56/292 [====>.........................] - ETA: 0s - loss: 0.1959 - accuracy: 0.9609"
          ]
        },
        {
          "output_type": "stream",
          "name": "stderr",
          "text": [
            "/usr/local/lib/python3.7/dist-packages/ipykernel_launcher.py:19: RuntimeWarning: invalid value encountered in true_divide\n"
          ]
        },
        {
          "output_type": "stream",
          "name": "stdout",
          "text": [
            "292/292 [==============================] - 1s 2ms/step - loss: 0.2123 - accuracy: 0.9735\n",
            "292/292 [==============================] - 0s 2ms/step - loss: 0.0818 - accuracy: 0.9772\n",
            "292/292 [==============================] - 1s 3ms/step - loss: 0.1293 - accuracy: 0.9803\n",
            "292/292 [==============================] - 1s 3ms/step - loss: 0.1293 - accuracy: 0.9803\n",
            "NN:\n",
            "evalute(): 0.973526 vs accuracy(): 0.952519\n",
            "CNN:\n",
            "evalute(): 0.977170 vs accuracy(): 0.937192\n",
            "LSTM:\n",
            "evalute(): 0.980279 vs accuracy(): 0.946838\n",
            "chronological:\n",
            "evalute(): 0.980279 vs accuracy(): 0.946838\n"
          ]
        }
      ]
    },
    {
      "cell_type": "markdown",
      "source": [
        "### train sample"
      ],
      "metadata": {
        "id": "nZNe0X_4n6O3"
      }
    },
    {
      "cell_type": "code",
      "source": [
        "index = list(range(0, 30))\n",
        "\n",
        "label = np.delete(train, index + [31], axis=1)\n",
        "feature = np.delete(train, [30,31], axis=1)\n",
        "\n",
        "feature_10X3 = np.reshape(feature, (feature.shape[0], 10, 3))\n",
        "feature_scaled = scaler.transform(feature)\n",
        "feature_scaled_10X3 = np.reshape(feature_scaled, (feature_scaled.shape[0], 10, 3))"
      ],
      "metadata": {
        "id": "Ra-_u2Nln9nS"
      },
      "execution_count": 47,
      "outputs": []
    },
    {
      "cell_type": "code",
      "source": [
        "NN = metrics(model_NN, x=feature_scaled, y=label)\n",
        "CNN = metrics(model_CNN, x=feature_scaled_10X3, y=label)\n",
        "LSTM = metrics(model_LSTM, x=feature_scaled_10X3, y=label)\n",
        "chronological = metrics(model_LSTM, x=feature_scaled_10X3, y=label)\n",
        "print(\"NN:\\nevalute(): %f vs accuracy(): %f\" %(NN[0], NN[1]) )\n",
        "print(\"CNN:\\nevalute(): %f vs accuracy(): %f\" %(CNN[0], CNN[1]) )\n",
        "print(\"LSTM:\\nevalute(): %f vs accuracy(): %f\" %(LSTM[0], LSTM[1]) )\n",
        "print(\"chronological:\\nevalute(): %f vs accuracy(): %f\" %(chronological[0], chronological[1]) )"
      ],
      "metadata": {
        "id": "bxpqiY8EuIjo",
        "colab": {
          "base_uri": "https://localhost:8080/"
        },
        "outputId": "9a4237af-6bcb-4450-b174-01d0e95ed97a"
      },
      "execution_count": 48,
      "outputs": [
        {
          "output_type": "stream",
          "name": "stdout",
          "text": [
            " 48/361 [==>...........................] - ETA: 0s - loss: 0.0031 - accuracy: 0.9993"
          ]
        },
        {
          "output_type": "stream",
          "name": "stderr",
          "text": [
            "/usr/local/lib/python3.7/dist-packages/ipykernel_launcher.py:19: RuntimeWarning: invalid value encountered in true_divide\n"
          ]
        },
        {
          "output_type": "stream",
          "name": "stdout",
          "text": [
            "361/361 [==============================] - 1s 2ms/step - loss: 0.0337 - accuracy: 0.9956\n",
            "361/361 [==============================] - 1s 2ms/step - loss: 0.0240 - accuracy: 0.9946\n",
            "361/361 [==============================] - 1s 3ms/step - loss: 0.0799 - accuracy: 0.9894\n",
            "361/361 [==============================] - 1s 3ms/step - loss: 0.0799 - accuracy: 0.9894\n",
            "NN:\n",
            "evalute(): 0.995575 vs accuracy(): 0.986030\n",
            "CNN:\n",
            "evalute(): 0.994620 vs accuracy(): 0.984035\n",
            "LSTM:\n",
            "evalute(): 0.989414 vs accuracy(): 0.974230\n",
            "chronological:\n",
            "evalute(): 0.989414 vs accuracy(): 0.974230\n"
          ]
        }
      ]
    }
  ],
  "metadata": {
    "colab": {
      "collapsed_sections": [],
      "name": "reconized_model.ipynb",
      "provenance": [],
      "include_colab_link": true
    },
    "kernelspec": {
      "display_name": "Python 3",
      "name": "python3"
    },
    "language_info": {
      "name": "python"
    }
  },
  "nbformat": 4,
  "nbformat_minor": 0
}