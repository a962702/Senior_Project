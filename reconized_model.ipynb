{
  "cells": [
    {
      "cell_type": "markdown",
      "metadata": {
        "id": "view-in-github",
        "colab_type": "text"
      },
      "source": [
        "<a href=\"https://colab.research.google.com/github/j28302830/Senior_Project/blob/main/reconized_model.ipynb\" target=\"_parent\"><img src=\"https://colab.research.google.com/assets/colab-badge.svg\" alt=\"Open In Colab\"/></a>"
      ]
    },
    {
      "cell_type": "markdown",
      "metadata": {
        "id": "Y2fj9xgNFy1H"
      },
      "source": [
        "# Download Samples and Models file"
      ]
    },
    {
      "cell_type": "code",
      "execution_count": 86,
      "metadata": {
        "colab": {
          "base_uri": "https://localhost:8080/"
        },
        "id": "Vjh7QysoGGly",
        "outputId": "00b296ec-0cfe-40d4-e6d0-d69f85dbf79d"
      },
      "outputs": [
        {
          "output_type": "stream",
          "name": "stdout",
          "text": [
            "--2022-05-16 11:08:35--  http://dataset.tlm.unavarra.es/ransomware/samplesAndModels.tar.xz\n",
            "Resolving dataset.tlm.unavarra.es (dataset.tlm.unavarra.es)... 130.206.160.87\n",
            "Connecting to dataset.tlm.unavarra.es (dataset.tlm.unavarra.es)|130.206.160.87|:80... connected.\n",
            "HTTP request sent, awaiting response... 200 OK\n",
            "Length: 41519408 (40M) [application/x-xz]\n",
            "Saving to: ‘samplesAndModels.tar.xz.2’\n",
            "\n",
            "samplesAndModels.ta 100%[===================>]  39.60M  9.70MB/s    in 4.7s    \n",
            "\n",
            "2022-05-16 11:08:40 (8.45 MB/s) - ‘samplesAndModels.tar.xz.2’ saved [41519408/41519408]\n",
            "\n"
          ]
        }
      ],
      "source": [
        "!wget http://dataset.tlm.unavarra.es/ransomware/samplesAndModels.tar.xz\n",
        "!tar -Jxvf /content/samplesAndModels.tar.xz &> /dev/null"
      ]
    },
    {
      "cell_type": "markdown",
      "metadata": {
        "id": "6_Ho5k4cIa5k"
      },
      "source": [
        "# Import Package"
      ]
    },
    {
      "cell_type": "code",
      "execution_count": 87,
      "metadata": {
        "id": "aBO0NnXOIery"
      },
      "outputs": [],
      "source": [
        "import tensorflow as tf\n",
        "import keras\n",
        "import glob\n",
        "import numpy as np\n",
        "from pickle import load\n",
        "import joblib \n",
        "\n",
        "from sklearn.metrics import accuracy_score, confusion_matrix\n",
        "import matplotlib.pyplot as plt\n",
        "import seaborn as sns"
      ]
    },
    {
      "cell_type": "markdown",
      "metadata": {
        "id": "uES_q4V7X2FJ"
      },
      "source": [
        "# Predefined Function"
      ]
    },
    {
      "cell_type": "code",
      "execution_count": 88,
      "metadata": {
        "id": "4DnoKttCUqgU"
      },
      "outputs": [],
      "source": [
        "def load_sample(local_path):\n",
        "  filenames = glob.glob(local_path + \"/*.txt\")\n",
        "  for i,filename in enumerate(filenames):\n",
        "    if i == 0:\n",
        "      x = np.loadtxt(filename, delimiter=',', dtype = 'float32')\n",
        "    else: \n",
        "      ds = np.loadtxt(filename, delimiter=',', dtype = 'float32')\n",
        "      x = np.concatenate((x, ds), axis=0)\n",
        "\n",
        "  return x"
      ]
    },
    {
      "cell_type": "code",
      "execution_count": 89,
      "metadata": {
        "id": "Oa6ruX_IOzBJ"
      },
      "outputs": [],
      "source": [
        "def metrics(model , x, y):\n",
        "  predict = model.predict(x)\n",
        "  predict[predict >= 0.99] = 1\n",
        "  predict[predict < 0.99] = 0\n",
        "\n",
        "  true_values = y\n",
        "  predictions = predict\n",
        "\n",
        "  TP = ((predictions == 1) & (true_values == 1)).sum()\n",
        "  FP = ((predictions == 1) & (true_values == 0)).sum()\n",
        "  TN = ((predictions == 0) & (true_values == 0)).sum()\n",
        "  FN = ((predictions == 0) & (true_values == 1)).sum()\n",
        "\n",
        "  accuracy = (TP+TN) / (TP+FP+TN+FN)\n",
        "  precision = TP / (TP+FP)\n",
        "  recall = TP / (TP+FN)\n",
        "  f_measure = 2*(precision*recall/(precision+recall))\n",
        "  temp = ((TP+FP)*(TP+FN)*(TN+FP)*(TN+FN))** 0.5\n",
        "  phi_coefficient = (TP*TN-FP*FN) / temp\n",
        "  \n",
        "  mat = confusion_matrix(true_values,predictions)\n",
        "\n",
        "  print(\"accuracy score:\", accuracy_score(true_values, predictions))\n",
        "    \n",
        "  sns.heatmap(mat,square= True, annot=True, cbar= False)\n",
        "  plt.xlabel(\"predicted value\")\n",
        "  plt.ylabel(\"true value\")\n",
        "  plt.show()\n",
        "  \n",
        "  evaluate = model.evaluate(x=x, y=y)\n",
        "\n",
        "  return [evaluate[1], accuracy, precision, recall, f_measure, phi_coefficient]"
      ]
    },
    {
      "cell_type": "code",
      "source": [
        "def scale(feature):\n",
        "  scaler = joblib.load('/content/scaler.scaler')\n",
        "  feature_scaled = scaler.transform(feature)\n",
        "  feature_scaled_10X3 = np.reshape(feature_scaled, (feature_scaled.shape[0], 10, 3))\n",
        "  return feature_scaled, feature_scaled_10X3"
      ],
      "metadata": {
        "id": "sx9Gggb0h-Kj"
      },
      "execution_count": 90,
      "outputs": []
    },
    {
      "cell_type": "markdown",
      "metadata": {
        "id": "z_S1CHvjGIFu"
      },
      "source": [
        "# Load NN, CNN, and LSTM model"
      ]
    },
    {
      "cell_type": "code",
      "execution_count": 91,
      "metadata": {
        "colab": {
          "base_uri": "https://localhost:8080/"
        },
        "id": "DcgHv9NC7w7e",
        "outputId": "c1e14245-ebed-4550-ce81-c3685ed0bc4e"
      },
      "outputs": [
        {
          "output_type": "stream",
          "name": "stdout",
          "text": [
            "WARNING:tensorflow:SavedModel saved prior to TF 2.5 detected when loading Keras model. Please ensure that you are saving the model with model.save() or tf.keras.models.save_model(), *NOT* tf.saved_model.save(). To confirm, there should be a file named \"keras_metadata.pb\" in the SavedModel directory.\n",
            "WARNING:tensorflow:SavedModel saved prior to TF 2.5 detected when loading Keras model. Please ensure that you are saving the model with model.save() or tf.keras.models.save_model(), *NOT* tf.saved_model.save(). To confirm, there should be a file named \"keras_metadata.pb\" in the SavedModel directory.\n",
            "WARNING:tensorflow:SavedModel saved prior to TF 2.5 detected when loading Keras model. Please ensure that you are saving the model with model.save() or tf.keras.models.save_model(), *NOT* tf.saved_model.save(). To confirm, there should be a file named \"keras_metadata.pb\" in the SavedModel directory.\n"
          ]
        }
      ],
      "source": [
        "model_NN = tf.keras.models.load_model('/content/NN_CNN_LSTM_Comparison/NN')\n",
        "model_CNN = tf.keras.models.load_model('/content/NN_CNN_LSTM_Comparison/CNN')\n",
        "model_LSTM = tf.keras.models.load_model('/content/NN_CNN_LSTM_Comparison/LSTM')"
      ]
    },
    {
      "cell_type": "markdown",
      "metadata": {
        "id": "cv1nGsFRQPya"
      },
      "source": [
        "JSON"
      ]
    },
    {
      "cell_type": "code",
      "execution_count": 92,
      "metadata": {
        "id": "K2L-0RkHQKwC"
      },
      "outputs": [],
      "source": [
        "json_file = open('/content/NN.json', 'r')\n",
        "loaded_model_json = json_file.read()\n",
        "json_file.close()\n",
        "loaded_model = tf.keras.models.model_from_json(loaded_model_json)"
      ]
    },
    {
      "cell_type": "markdown",
      "metadata": {
        "id": "gRu9WhzCUByU"
      },
      "source": [
        "# Load sample"
      ]
    },
    {
      "cell_type": "code",
      "execution_count": 93,
      "metadata": {
        "id": "hQVKnMMq-VkP"
      },
      "outputs": [],
      "source": [
        "index = list(range(0, 30)) #show range of feature index \n",
        "test = load_sample(local_path = r'/content/samples/ransomwareSamples_test')\n",
        "train = load_sample(local_path = r'/content/samples/ransomwareSamples_train')\n",
        "all_ransomware = np.concatenate( (train, test), axis = 0 )\n",
        "day_zero = np.loadtxt('/content/samples/userSamples/day0.txt', delimiter=',', dtype = 'float32')"
      ]
    },
    {
      "cell_type": "markdown",
      "metadata": {
        "id": "XklgZaqKCnFA"
      },
      "source": [
        "# Preprocessing Sample and Run Model "
      ]
    },
    {
      "cell_type": "markdown",
      "source": [
        "### day0 and all ransomware sample"
      ],
      "metadata": {
        "id": "satPv-OzjJhy"
      }
    },
    {
      "cell_type": "code",
      "source": [
        "label = np.delete(all_ransomware, index + [31], axis=1)\n",
        "feature = np.delete(all_ransomware, [30,31], axis=1)\n",
        "\n",
        "\n",
        "label2 = np.delete(day_zero, index, axis=1)\n",
        "feature2 = np.delete(day_zero, [30], axis=1)\n",
        "\n",
        "label = np.concatenate( (label, label2), axis = 0 )\n",
        "feature = np.concatenate( (feature, feature2), axis = 0 )\n",
        "\n",
        "feature_scaled, feature_scaled_10X3 = scale(feature)"
      ],
      "metadata": {
        "id": "ISCUQxwtjJJR",
        "colab": {
          "base_uri": "https://localhost:8080/"
        },
        "outputId": "a818bdd4-8506-4d3c-c417-5168fe3f959a"
      },
      "execution_count": 94,
      "outputs": [
        {
          "output_type": "stream",
          "name": "stderr",
          "text": [
            "/usr/local/lib/python3.7/dist-packages/sklearn/base.py:338: UserWarning: Trying to unpickle estimator StandardScaler from version 0.23.2 when using version 1.0.2. This might lead to breaking code or invalid results. Use at your own risk. For more info please refer to:\n",
            "https://scikit-learn.org/stable/modules/model_persistence.html#security-maintainability-limitations\n",
            "  UserWarning,\n"
          ]
        }
      ]
    },
    {
      "cell_type": "code",
      "source": [
        "NN = metrics(model_NN, x=feature_scaled, y=label)\n",
        "CNN = metrics(model_CNN, x=feature_scaled_10X3, y=label)\n",
        "LSTM = metrics(model_LSTM, x=feature_scaled_10X3, y=label)\n",
        "print(\"NN:\\naccuracy(): %f\" %NN[1] )\n",
        "print(\"CNN:\\naccuracy(): %f\" %CNN[1] )\n",
        "print(\"LSTM:\\naccuracy(): %f\" %LSTM[1] )"
      ],
      "metadata": {
        "colab": {
          "base_uri": "https://localhost:8080/",
          "height": 1000
        },
        "id": "VZJmF9tWuB5Y",
        "outputId": "48ae950c-e63b-4c98-e59c-238bc87e18fe"
      },
      "execution_count": 95,
      "outputs": [
        {
          "output_type": "stream",
          "name": "stderr",
          "text": [
            "/usr/local/lib/python3.7/dist-packages/ipykernel_launcher.py:18: RuntimeWarning: overflow encountered in long_scalars\n",
            "/usr/local/lib/python3.7/dist-packages/ipykernel_launcher.py:18: RuntimeWarning: invalid value encountered in power\n"
          ]
        },
        {
          "output_type": "stream",
          "name": "stdout",
          "text": [
            "accuracy score: 0.9661494324461659\n"
          ]
        },
        {
          "output_type": "display_data",
          "data": {
            "text/plain": [
              "<Figure size 432x288 with 1 Axes>"
            ],
            "image/png": "[encoded data removed]"
          },
          "metadata": {
            "needs_background": "light"
          }
        },
        {
          "output_type": "stream",
          "name": "stdout",
          "text": [
            "31611/31611 [==============================] - 66s 2ms/step - loss: 1.8139 - accuracy: 0.9668\n"
          ]
        },
        {
          "output_type": "stream",
          "name": "stderr",
          "text": [
            "/usr/local/lib/python3.7/dist-packages/ipykernel_launcher.py:18: RuntimeWarning: overflow encountered in long_scalars\n",
            "/usr/local/lib/python3.7/dist-packages/ipykernel_launcher.py:18: RuntimeWarning: invalid value encountered in power\n"
          ]
        },
        {
          "output_type": "stream",
          "name": "stdout",
          "text": [
            "accuracy score: 0.9655958178370673\n"
          ]
        },
        {
          "output_type": "display_data",
          "data": {
            "text/plain": [
              "<Figure size 432x288 with 1 Axes>"
            ],
            "image/png": "[encoded data removed]"
          },
          "metadata": {
            "needs_background": "light"
          }
        },
        {
          "output_type": "stream",
          "name": "stdout",
          "text": [
            "31611/31611 [==============================] - 56s 2ms/step - loss: 0.4569 - accuracy: 0.9664\n"
          ]
        },
        {
          "output_type": "stream",
          "name": "stderr",
          "text": [
            "/usr/local/lib/python3.7/dist-packages/ipykernel_launcher.py:18: RuntimeWarning: overflow encountered in long_scalars\n",
            "/usr/local/lib/python3.7/dist-packages/ipykernel_launcher.py:18: RuntimeWarning: invalid value encountered in power\n"
          ]
        },
        {
          "output_type": "stream",
          "name": "stdout",
          "text": [
            "accuracy score: 0.9655730800941936\n"
          ]
        },
        {
          "output_type": "display_data",
          "data": {
            "text/plain": [
              "<Figure size 432x288 with 1 Axes>"
            ],
            "image/png": "[encoded data removed]"
          },
          "metadata": {
            "needs_background": "light"
          }
        },
        {
          "output_type": "stream",
          "name": "stdout",
          "text": [
            "31611/31611 [==============================] - 116s 4ms/step - loss: 0.4148 - accuracy: 0.9658\n",
            "NN:\n",
            "accuracy(): 0.966149\n",
            "CNN:\n",
            "accuracy(): 0.965596\n",
            "LSTM:\n",
            "accuracy(): 0.965573\n"
          ]
        }
      ]
    },
    {
      "cell_type": "markdown",
      "source": [
        "### test sample without low activity data"
      ],
      "metadata": {
        "id": "mfl47sFycapk"
      }
    },
    {
      "cell_type": "code",
      "source": [
        "label = np.delete(test, index + [31], axis=1)\n",
        "feature = np.delete(test, [30,31], axis=1)\n",
        "\n",
        "count = np.count_nonzero(feature == 0, axis=1)\n",
        "low_activity = np.where( count >= (feature.shape[1]/3) )\n",
        "\n",
        "label = np.delete(label, low_activity, axis=0)\n",
        "feature = np.delete(feature, low_activity, axis=0)\n",
        "\n",
        "feature_scaled, feature_scaled_10X3 = scale(feature)"
      ],
      "metadata": {
        "id": "Z8IxGZxZgB4S",
        "colab": {
          "base_uri": "https://localhost:8080/"
        },
        "outputId": "a2ddae1b-d332-4664-b577-db094e001d35"
      },
      "execution_count": 96,
      "outputs": [
        {
          "output_type": "stream",
          "name": "stderr",
          "text": [
            "/usr/local/lib/python3.7/dist-packages/sklearn/base.py:338: UserWarning: Trying to unpickle estimator StandardScaler from version 0.23.2 when using version 1.0.2. This might lead to breaking code or invalid results. Use at your own risk. For more info please refer to:\n",
            "https://scikit-learn.org/stable/modules/model_persistence.html#security-maintainability-limitations\n",
            "  UserWarning,\n"
          ]
        }
      ]
    },
    {
      "cell_type": "code",
      "source": [
        "NN = metrics(model_NN, x=feature_scaled, y=label)\n",
        "CNN = metrics(model_CNN, x=feature_scaled_10X3, y=label)\n",
        "LSTM = metrics(model_LSTM, x=feature_scaled_10X3, y=label)\n",
        "print(\"NN:\\naccuracy(): %f\" %NN[1] )\n",
        "print(\"CNN:\\naccuracy(): %f\" %CNN[1] )\n",
        "print(\"LSTM:\\naccuracy(): %f\" %LSTM[1] )"
      ],
      "metadata": {
        "colab": {
          "base_uri": "https://localhost:8080/",
          "height": 1000
        },
        "id": "1QsCaTT4uDoq",
        "outputId": "151af6bc-d11b-49ff-951c-40ce985b2aef"
      },
      "execution_count": 97,
      "outputs": [
        {
          "output_type": "stream",
          "name": "stdout",
          "text": [
            "accuracy score: 0.952518756698821\n"
          ]
        },
        {
          "output_type": "stream",
          "name": "stderr",
          "text": [
            "/usr/local/lib/python3.7/dist-packages/ipykernel_launcher.py:19: RuntimeWarning: invalid value encountered in true_divide\n"
          ]
        },
        {
          "output_type": "display_data",
          "data": {
            "text/plain": [
              "<Figure size 432x288 with 1 Axes>"
            ],
            "image/png": "[encoded data removed]"
          },
          "metadata": {
            "needs_background": "light"
          }
        },
        {
          "output_type": "stream",
          "name": "stdout",
          "text": [
            "292/292 [==============================] - 1s 2ms/step - loss: 0.2123 - accuracy: 0.9735\n",
            "accuracy score: 0.9371918542336549\n"
          ]
        },
        {
          "output_type": "stream",
          "name": "stderr",
          "text": [
            "/usr/local/lib/python3.7/dist-packages/ipykernel_launcher.py:19: RuntimeWarning: invalid value encountered in true_divide\n"
          ]
        },
        {
          "output_type": "display_data",
          "data": {
            "text/plain": [
              "<Figure size 432x288 with 1 Axes>"
            ],
            "image/png": "[encoded data removed]"
          },
          "metadata": {
            "needs_background": "light"
          }
        },
        {
          "output_type": "stream",
          "name": "stdout",
          "text": [
            "292/292 [==============================] - 1s 2ms/step - loss: 0.0818 - accuracy: 0.9772\n",
            "accuracy score: 0.9468381564844587\n"
          ]
        },
        {
          "output_type": "stream",
          "name": "stderr",
          "text": [
            "/usr/local/lib/python3.7/dist-packages/ipykernel_launcher.py:19: RuntimeWarning: invalid value encountered in true_divide\n"
          ]
        },
        {
          "output_type": "display_data",
          "data": {
            "text/plain": [
              "<Figure size 432x288 with 1 Axes>"
            ],
            "image/png": "[encoded data removed]"
          },
          "metadata": {
            "needs_background": "light"
          }
        },
        {
          "output_type": "stream",
          "name": "stdout",
          "text": [
            "292/292 [==============================] - 1s 4ms/step - loss: 0.1293 - accuracy: 0.9803\n",
            "NN:\n",
            "accuracy(): 0.952519\n",
            "CNN:\n",
            "accuracy(): 0.937192\n",
            "LSTM:\n",
            "accuracy(): 0.946838\n"
          ]
        }
      ]
    },
    {
      "cell_type": "markdown",
      "source": [
        "### train sample"
      ],
      "metadata": {
        "id": "nZNe0X_4n6O3"
      }
    },
    {
      "cell_type": "code",
      "source": [
        "label = np.delete(train, index + [31], axis=1)\n",
        "feature = np.delete(train, [30,31], axis=1)\n",
        "\n",
        "feature_scaled, feature_scaled_10X3 = scale(feature)"
      ],
      "metadata": {
        "id": "Ra-_u2Nln9nS",
        "colab": {
          "base_uri": "https://localhost:8080/"
        },
        "outputId": "236afcbb-d0c8-45f1-a437-c0618826b54e"
      },
      "execution_count": 98,
      "outputs": [
        {
          "output_type": "stream",
          "name": "stderr",
          "text": [
            "/usr/local/lib/python3.7/dist-packages/sklearn/base.py:338: UserWarning: Trying to unpickle estimator StandardScaler from version 0.23.2 when using version 1.0.2. This might lead to breaking code or invalid results. Use at your own risk. For more info please refer to:\n",
            "https://scikit-learn.org/stable/modules/model_persistence.html#security-maintainability-limitations\n",
            "  UserWarning,\n"
          ]
        }
      ]
    },
    {
      "cell_type": "code",
      "source": [
        "NN = metrics(model_NN, x=feature_scaled, y=label)\n",
        "CNN = metrics(model_CNN, x=feature_scaled_10X3, y=label)\n",
        "LSTM = metrics(model_LSTM, x=feature_scaled_10X3, y=label)\n",
        "print(\"NN:\\naccuracy(): %f\" %NN[1] )\n",
        "print(\"CNN:\\naccuracy(): %f\" %CNN[1] )\n",
        "print(\"LSTM:\\naccuracy(): %f\" %LSTM[1] )"
      ],
      "metadata": {
        "id": "bxpqiY8EuIjo",
        "colab": {
          "base_uri": "https://localhost:8080/",
          "height": 1000
        },
        "outputId": "ce97a781-9d4c-400f-89e9-4a55048c0bf7"
      },
      "execution_count": 99,
      "outputs": [
        {
          "output_type": "stream",
          "name": "stdout",
          "text": [
            "accuracy score: 0.9860303687635574\n"
          ]
        },
        {
          "output_type": "stream",
          "name": "stderr",
          "text": [
            "/usr/local/lib/python3.7/dist-packages/ipykernel_launcher.py:19: RuntimeWarning: invalid value encountered in true_divide\n"
          ]
        },
        {
          "output_type": "display_data",
          "data": {
            "text/plain": [
              "<Figure size 432x288 with 1 Axes>"
            ],
            "image/png": "[encoded data removed]"
          },
          "metadata": {
            "needs_background": "light"
          }
        },
        {
          "output_type": "stream",
          "name": "stdout",
          "text": [
            "361/361 [==============================] - 1s 2ms/step - loss: 0.0337 - accuracy: 0.9956\n",
            "accuracy score: 0.9840347071583514\n"
          ]
        },
        {
          "output_type": "stream",
          "name": "stderr",
          "text": [
            "/usr/local/lib/python3.7/dist-packages/ipykernel_launcher.py:19: RuntimeWarning: invalid value encountered in true_divide\n"
          ]
        },
        {
          "output_type": "display_data",
          "data": {
            "text/plain": [
              "<Figure size 432x288 with 1 Axes>"
            ],
            "image/png": "[encoded data removed]"
          },
          "metadata": {
            "needs_background": "light"
          }
        },
        {
          "output_type": "stream",
          "name": "stdout",
          "text": [
            "361/361 [==============================] - 1s 2ms/step - loss: 0.0240 - accuracy: 0.9946\n",
            "accuracy score: 0.9742299349240781\n"
          ]
        },
        {
          "output_type": "stream",
          "name": "stderr",
          "text": [
            "/usr/local/lib/python3.7/dist-packages/ipykernel_launcher.py:19: RuntimeWarning: invalid value encountered in true_divide\n"
          ]
        },
        {
          "output_type": "display_data",
          "data": {
            "text/plain": [
              "<Figure size 432x288 with 1 Axes>"
            ],
            "image/png": "[encoded data removed]"
          },
          "metadata": {
            "needs_background": "light"
          }
        },
        {
          "output_type": "stream",
          "name": "stdout",
          "text": [
            "361/361 [==============================] - 1s 4ms/step - loss: 0.0799 - accuracy: 0.9894\n",
            "NN:\n",
            "accuracy(): 0.986030\n",
            "CNN:\n",
            "accuracy(): 0.984035\n",
            "LSTM:\n",
            "accuracy(): 0.974230\n"
          ]
        }
      ]
    },
    {
      "cell_type": "markdown",
      "source": [
        "### all ransomware sample"
      ],
      "metadata": {
        "id": "43iWD85jfjCk"
      }
    },
    {
      "cell_type": "code",
      "source": [
        "index = list(range(0, 30))\n",
        "\n",
        "label = np.delete(train, index + [31], axis=1)\n",
        "feature = np.delete(train, [30,31], axis=1)\n",
        "\n",
        "label2 = np.delete(test, index + [31], axis=1)\n",
        "feature2 = np.delete(test, [30,31], axis=1)\n",
        "\n",
        "label = np.concatenate( (label, label2), axis = 0 )\n",
        "feature = np.concatenate( (feature, feature2), axis = 0 )\n",
        "\n",
        "count = np.count_nonzero(feature == 0, axis=1)\n",
        "low_activity = np.where( count >= (feature.shape[1]/3) )\n",
        "\n",
        "label = np.delete(label, low_activity, axis=0)\n",
        "feature = np.delete(feature, low_activity, axis=0)\n",
        "\n",
        "feature_scaled, feature_scaled_10X3 = scale(feature)"
      ],
      "metadata": {
        "colab": {
          "base_uri": "https://localhost:8080/"
        },
        "id": "bXt57biefid6",
        "outputId": "5e5e6c38-676c-4f1f-8218-e0b66eb4e0aa"
      },
      "execution_count": 100,
      "outputs": [
        {
          "output_type": "stream",
          "name": "stderr",
          "text": [
            "/usr/local/lib/python3.7/dist-packages/sklearn/base.py:338: UserWarning: Trying to unpickle estimator StandardScaler from version 0.23.2 when using version 1.0.2. This might lead to breaking code or invalid results. Use at your own risk. For more info please refer to:\n",
            "https://scikit-learn.org/stable/modules/model_persistence.html#security-maintainability-limitations\n",
            "  UserWarning,\n"
          ]
        }
      ]
    },
    {
      "cell_type": "code",
      "source": [
        "NN = metrics(model_NN, x=feature_scaled, y=label)\n",
        "CNN = metrics(model_CNN, x=feature_scaled_10X3, y=label)\n",
        "LSTM = metrics(model_LSTM, x=feature_scaled_10X3, y=label)\n",
        "print(\"NN:\\naccuracy(): %f\" %NN[1] )\n",
        "print(\"CNN:\\naccuracy(): %f\" %CNN[1] )\n",
        "print(\"LSTM:\\naccuracy(): %f\" %LSTM[1] )"
      ],
      "metadata": {
        "colab": {
          "base_uri": "https://localhost:8080/",
          "height": 1000
        },
        "id": "xad6ReB8k9ub",
        "outputId": "bbb88140-f6d4-48d3-afc6-2007ed471179"
      },
      "execution_count": 101,
      "outputs": [
        {
          "output_type": "stream",
          "name": "stdout",
          "text": [
            "accuracy score: 0.971038120354831\n"
          ]
        },
        {
          "output_type": "stream",
          "name": "stderr",
          "text": [
            "/usr/local/lib/python3.7/dist-packages/ipykernel_launcher.py:19: RuntimeWarning: invalid value encountered in true_divide\n"
          ]
        },
        {
          "output_type": "display_data",
          "data": {
            "text/plain": [
              "<Figure size 432x288 with 1 Axes>"
            ],
            "image/png": "[encoded data removed]"
          },
          "metadata": {
            "needs_background": "light"
          }
        },
        {
          "output_type": "stream",
          "name": "stdout",
          "text": [
            "652/652 [==============================] - 1s 2ms/step - loss: 0.1136 - accuracy: 0.9857\n",
            "accuracy score: 0.9630783984655957\n"
          ]
        },
        {
          "output_type": "stream",
          "name": "stderr",
          "text": [
            "/usr/local/lib/python3.7/dist-packages/ipykernel_launcher.py:19: RuntimeWarning: invalid value encountered in true_divide\n"
          ]
        },
        {
          "output_type": "display_data",
          "data": {
            "text/plain": [
              "<Figure size 432x288 with 1 Axes>"
            ],
            "image/png": "[encoded data removed]"
          },
          "metadata": {
            "needs_background": "light"
          }
        },
        {
          "output_type": "stream",
          "name": "stdout",
          "text": [
            "652/652 [==============================] - 1s 2ms/step - loss: 0.0499 - accuracy: 0.9868\n",
            "accuracy score: 0.96197554543275\n"
          ]
        },
        {
          "output_type": "stream",
          "name": "stderr",
          "text": [
            "/usr/local/lib/python3.7/dist-packages/ipykernel_launcher.py:19: RuntimeWarning: invalid value encountered in true_divide\n"
          ]
        },
        {
          "output_type": "display_data",
          "data": {
            "text/plain": [
              "<Figure size 432x288 with 1 Axes>"
            ],
            "image/png": "[encoded data removed]"
          },
          "metadata": {
            "needs_background": "light"
          }
        },
        {
          "output_type": "stream",
          "name": "stdout",
          "text": [
            "652/652 [==============================] - 3s 4ms/step - loss: 0.1020 - accuracy: 0.9853\n",
            "NN:\n",
            "accuracy(): 0.971038\n",
            "CNN:\n",
            "accuracy(): 0.963078\n",
            "LSTM:\n",
            "accuracy(): 0.961976\n"
          ]
        }
      ]
    },
    {
      "cell_type": "markdown",
      "source": [
        ""
      ],
      "metadata": {
        "id": "tEIGjFc_mhI8"
      }
    }
  ],
  "metadata": {
    "colab": {
      "collapsed_sections": [],
      "name": "reconized_model.ipynb",
      "provenance": [],
      "include_colab_link": true
    },
    "kernelspec": {
      "display_name": "Python 3",
      "name": "python3"
    },
    "language_info": {
      "name": "python"
    }
  },
  "nbformat": 4,
  "nbformat_minor": 0
}