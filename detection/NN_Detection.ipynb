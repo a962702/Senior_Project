{
  "nbformat": 4,
  "nbformat_minor": 0,
  "metadata": {
    "colab": {
      "name": "NN_Detection.ipynb",
      "provenance": [],
      "collapsed_sections": [],
      "authorship_tag": "ABX9TyMXKGslDvtirbyBbbrOxWYZ",
      "include_colab_link": true
    },
    "kernelspec": {
      "name": "python3",
      "display_name": "Python 3"
    },
    "language_info": {
      "name": "python"
    }
  },
  "cells": [
    {
      "cell_type": "markdown",
      "metadata": {
        "id": "view-in-github",
        "colab_type": "text"
      },
      "source": [
        "<a href=\"https://colab.research.google.com/github/j28302830/Senior_Project/blob/main/detection/NN_Detection.ipynb\" target=\"_parent\"><img src=\"https://colab.research.google.com/assets/colab-badge.svg\" alt=\"Open In Colab\"/></a>"
      ]
    },
    {
      "cell_type": "code",
      "source": [
        "import pandas as pd\n",
        "from sklearn import preprocessing\n",
        "import numpy as np \n",
        "from keras.models import Sequential\n",
        "from keras.layers import Input, Dense\n",
        "import tensorflow as tf\n",
        "from sklearn.model_selection import train_test_split"
      ],
      "metadata": {
        "id": "rJJPBoDe6Wqy"
      },
      "execution_count": null,
      "outputs": []
    },
    {
      "cell_type": "code",
      "source": [
        "dataset = pd.read_csv('/content/merge_labeled_detect.csv')\n",
        "\n",
        "#### label coding for nominal values\n",
        "def label_coding(label):\n",
        "    dataset[label]= label_encoder.fit_transform(dataset[label]) \n",
        "    dataset[label].unique()\n",
        "    \n",
        "### label encoding\n",
        "label_encoder = preprocessing.LabelEncoder() \n",
        "label_coding('Flow ID')\n",
        "label_coding('Src IP')\n",
        "label_coding('Dst IP')\n",
        "label_coding('Timestamp')\n",
        "label_coding('Label')\n",
        "\n",
        "### extracting features\n",
        "X=dataset.iloc[:,:-1]\n",
        "X=X.values\n",
        "\n",
        "print(\"+-inf\",sum(np.isinf(X)))\n",
        "print(\"inf\",sum(np.isposinf(X)))\n",
        "print(\"-inf\",sum(np.isneginf(X)))\n",
        "print(\"nan\",sum(np.isnan(X)))\n",
        "print(\"fin\",sum(np.isfinite(X)))\n",
        "\n",
        "X = np.where(np.isnan(X), 0, X)\n",
        "X = np.where(np.isposinf(X), 0, X)\n",
        "X = np.where(np.isneginf(X), 0, X)\n",
        "\n",
        "scaler = preprocessing.StandardScaler()\n",
        "scaler.fit(X)\n",
        "X = scaler.transform(X)\n",
        "\n",
        "Y = dataset['Label'].values"
      ],
      "metadata": {
        "colab": {
          "base_uri": "https://localhost:8080/"
        },
        "id": "OJ3Zyppt6wVx",
        "outputId": "6d585c78-c3c8-40e4-d9c4-2b9185c4e73b"
      },
      "execution_count": null,
      "outputs": [
        {
          "output_type": "stream",
          "name": "stdout",
          "text": [
            "+-inf [ 0  0  0  0  0  0  0  0  0  0  0  0  0  0  0  0  0  0  0  0  1 13  0  0\n",
            "  0  0  0  0  0  0  0  0  0  0  0  0  0  0  0  0  0  0  0  0  0  0  0  0\n",
            "  0  0  0  0  0  0  0  0  0  0  0  0  0  0  0  0  0  0  0  0  0  0  0  0\n",
            "  0  0  0  0  0  0  0  0  0  0  0]\n",
            "inf [ 0  0  0  0  0  0  0  0  0  0  0  0  0  0  0  0  0  0  0  0  1 13  0  0\n",
            "  0  0  0  0  0  0  0  0  0  0  0  0  0  0  0  0  0  0  0  0  0  0  0  0\n",
            "  0  0  0  0  0  0  0  0  0  0  0  0  0  0  0  0  0  0  0  0  0  0  0  0\n",
            "  0  0  0  0  0  0  0  0  0  0  0]\n",
            "-inf [0 0 0 0 0 0 0 0 0 0 0 0 0 0 0 0 0 0 0 0 0 0 0 0 0 0 0 0 0 0 0 0 0 0 0 0 0\n",
            " 0 0 0 0 0 0 0 0 0 0 0 0 0 0 0 0 0 0 0 0 0 0 0 0 0 0 0 0 0 0 0 0 0 0 0 0 0\n",
            " 0 0 0 0 0 0 0 0 0]\n",
            "nan [ 0  0  0  0  0  0  0  0  0  0  0  0  0  0  0  0  0  0  0  0 12  0  0  0\n",
            "  0  0  0  0  0  0  0  0  0  0  0  0  0  0  0  0  0  0  0  0  0  0  0  0\n",
            "  0  0  0  0  0  0  0  0  0  0  0  0  0  0  0  0  0  0  0  0  0  0  0  0\n",
            "  0  0  0  0  0  0  0  0  0  0  0]\n",
            "fin [41505 41505 41505 41505 41505 41505 41505 41505 41505 41505 41505 41505\n",
            " 41505 41505 41505 41505 41505 41505 41505 41505 41492 41492 41505 41505\n",
            " 41505 41505 41505 41505 41505 41505 41505 41505 41505 41505 41505 41505\n",
            " 41505 41505 41505 41505 41505 41505 41505 41505 41505 41505 41505 41505\n",
            " 41505 41505 41505 41505 41505 41505 41505 41505 41505 41505 41505 41505\n",
            " 41505 41505 41505 41505 41505 41505 41505 41505 41505 41505 41505 41505\n",
            " 41505 41505 41505 41505 41505 41505 41505 41505 41505 41505 41505]\n"
          ]
        }
      ]
    },
    {
      "cell_type": "code",
      "execution_count": null,
      "metadata": {
        "colab": {
          "base_uri": "https://localhost:8080/"
        },
        "id": "Kl_63mVD6PHg",
        "outputId": "cee06607-41d6-4240-939e-a3ab9b8da93b"
      },
      "outputs": [
        {
          "output_type": "stream",
          "name": "stdout",
          "text": [
            "Model: \"sequential\"\n",
            "_________________________________________________________________\n",
            " Layer (type)                Output Shape              Param #   \n",
            "=================================================================\n",
            " dense (Dense)               (None, 512)               43008     \n",
            "                                                                 \n",
            " dense_1 (Dense)             (None, 256)               131328    \n",
            "                                                                 \n",
            " dense_2 (Dense)             (None, 128)               32896     \n",
            "                                                                 \n",
            " dense_3 (Dense)             (None, 1)                 129       \n",
            "                                                                 \n",
            "=================================================================\n",
            "Total params: 207,361\n",
            "Trainable params: 207,361\n",
            "Non-trainable params: 0\n",
            "_________________________________________________________________\n"
          ]
        }
      ],
      "source": [
        "model = Sequential()\n",
        "InputLayer = Input( batch_input_shape=(None, 83), name=\"dense_input\", dtype=tf.float32, sparse=False, ragged=False)\n",
        "model.add(InputLayer)\n",
        "model.add(Dense(512, batch_input_shape=(None, 83), name=\"dense\", dtype=tf.float32, activation=\"sigmoid\"))\n",
        "model.add(Dense(256, name=\"dense_1\", dtype=tf.float32, activation=\"linear\"))\n",
        "model.add(Dense(128, name=\"dense_2\", dtype=tf.float32, activation=\"linear\"))\n",
        "model.add(Dense(1, name=\"dense_3\", dtype=tf.float32, activation=\"sigmoid\"))\n",
        "model.compile(optimizer='adam', loss='binary_crossentropy' , metrics=['acc'])\n",
        "model.summary()"
      ]
    },
    {
      "cell_type": "code",
      "source": [
        "X_train, X_test, Y_train, Y_test = train_test_split(X, Y, test_size=0.3, random_state=123)\n",
        "history = model.fit(X_train, Y_train, epochs=100, validation_split=0.05)"
      ],
      "metadata": {
        "colab": {
          "base_uri": "https://localhost:8080/"
        },
        "id": "g_QNTSGpGMF5",
        "outputId": "fd79d4b4-1570-48bb-9316-4064606ecf23"
      },
      "execution_count": null,
      "outputs": [
        {
          "output_type": "stream",
          "name": "stdout",
          "text": [
            "Epoch 1/100\n",
            "863/863 [==============================] - 8s 8ms/step - loss: 3.7151e-04 - acc: 1.0000 - val_loss: 2.1625e-20 - val_acc: 1.0000\n",
            "Epoch 2/100\n",
            "863/863 [==============================] - 7s 9ms/step - loss: 2.0070e-20 - acc: 1.0000 - val_loss: 2.1625e-20 - val_acc: 1.0000\n",
            "Epoch 3/100\n",
            "863/863 [==============================] - 8s 9ms/step - loss: 2.0070e-20 - acc: 1.0000 - val_loss: 2.1625e-20 - val_acc: 1.0000\n",
            "Epoch 4/100\n",
            "863/863 [==============================] - 8s 9ms/step - loss: 2.0070e-20 - acc: 1.0000 - val_loss: 2.1625e-20 - val_acc: 1.0000\n",
            "Epoch 5/100\n",
            "863/863 [==============================] - 8s 9ms/step - loss: 2.0070e-20 - acc: 1.0000 - val_loss: 2.1625e-20 - val_acc: 1.0000\n",
            "Epoch 6/100\n",
            "863/863 [==============================] - 7s 9ms/step - loss: 2.0070e-20 - acc: 1.0000 - val_loss: 2.1625e-20 - val_acc: 1.0000\n",
            "Epoch 7/100\n",
            "863/863 [==============================] - 7s 8ms/step - loss: 2.0070e-20 - acc: 1.0000 - val_loss: 2.1625e-20 - val_acc: 1.0000\n",
            "Epoch 8/100\n",
            "863/863 [==============================] - 5s 6ms/step - loss: 2.0070e-20 - acc: 1.0000 - val_loss: 2.1625e-20 - val_acc: 1.0000\n",
            "Epoch 9/100\n",
            "863/863 [==============================] - 3s 4ms/step - loss: 2.0070e-20 - acc: 1.0000 - val_loss: 2.1625e-20 - val_acc: 1.0000\n",
            "Epoch 10/100\n",
            "863/863 [==============================] - 3s 4ms/step - loss: 2.0070e-20 - acc: 1.0000 - val_loss: 2.1625e-20 - val_acc: 1.0000\n",
            "Epoch 11/100\n",
            "863/863 [==============================] - 3s 4ms/step - loss: 2.0070e-20 - acc: 1.0000 - val_loss: 2.1625e-20 - val_acc: 1.0000\n",
            "Epoch 12/100\n",
            "863/863 [==============================] - 3s 4ms/step - loss: 2.0070e-20 - acc: 1.0000 - val_loss: 2.1625e-20 - val_acc: 1.0000\n",
            "Epoch 13/100\n",
            "863/863 [==============================] - 3s 4ms/step - loss: 2.0070e-20 - acc: 1.0000 - val_loss: 2.1625e-20 - val_acc: 1.0000\n",
            "Epoch 14/100\n",
            "863/863 [==============================] - 4s 4ms/step - loss: 2.0070e-20 - acc: 1.0000 - val_loss: 2.1625e-20 - val_acc: 1.0000\n",
            "Epoch 15/100\n",
            "863/863 [==============================] - 3s 4ms/step - loss: 2.0070e-20 - acc: 1.0000 - val_loss: 2.1625e-20 - val_acc: 1.0000\n",
            "Epoch 16/100\n",
            "863/863 [==============================] - 3s 4ms/step - loss: 2.0070e-20 - acc: 1.0000 - val_loss: 2.1625e-20 - val_acc: 1.0000\n",
            "Epoch 17/100\n",
            "863/863 [==============================] - 3s 4ms/step - loss: 2.0070e-20 - acc: 1.0000 - val_loss: 2.1625e-20 - val_acc: 1.0000\n",
            "Epoch 18/100\n",
            "863/863 [==============================] - 4s 4ms/step - loss: 2.0070e-20 - acc: 1.0000 - val_loss: 2.1625e-20 - val_acc: 1.0000\n",
            "Epoch 19/100\n",
            "863/863 [==============================] - 3s 4ms/step - loss: 2.0070e-20 - acc: 1.0000 - val_loss: 2.1625e-20 - val_acc: 1.0000\n",
            "Epoch 20/100\n",
            "863/863 [==============================] - 3s 4ms/step - loss: 2.0070e-20 - acc: 1.0000 - val_loss: 2.1625e-20 - val_acc: 1.0000\n",
            "Epoch 21/100\n",
            "863/863 [==============================] - 3s 4ms/step - loss: 2.0070e-20 - acc: 1.0000 - val_loss: 2.1625e-20 - val_acc: 1.0000\n",
            "Epoch 22/100\n",
            "863/863 [==============================] - 3s 4ms/step - loss: 2.0070e-20 - acc: 1.0000 - val_loss: 2.1625e-20 - val_acc: 1.0000\n",
            "Epoch 23/100\n",
            "863/863 [==============================] - 3s 4ms/step - loss: 2.0070e-20 - acc: 1.0000 - val_loss: 2.1625e-20 - val_acc: 1.0000\n",
            "Epoch 24/100\n",
            "863/863 [==============================] - 3s 4ms/step - loss: 2.0070e-20 - acc: 1.0000 - val_loss: 2.1625e-20 - val_acc: 1.0000\n",
            "Epoch 25/100\n",
            "863/863 [==============================] - 3s 4ms/step - loss: 2.0070e-20 - acc: 1.0000 - val_loss: 2.1625e-20 - val_acc: 1.0000\n",
            "Epoch 26/100\n",
            "863/863 [==============================] - 3s 4ms/step - loss: 2.0070e-20 - acc: 1.0000 - val_loss: 2.1625e-20 - val_acc: 1.0000\n",
            "Epoch 27/100\n",
            "863/863 [==============================] - 3s 4ms/step - loss: 2.0070e-20 - acc: 1.0000 - val_loss: 2.1625e-20 - val_acc: 1.0000\n",
            "Epoch 28/100\n",
            "863/863 [==============================] - 3s 4ms/step - loss: 2.0070e-20 - acc: 1.0000 - val_loss: 2.1625e-20 - val_acc: 1.0000\n",
            "Epoch 29/100\n",
            "863/863 [==============================] - 3s 4ms/step - loss: 2.0070e-20 - acc: 1.0000 - val_loss: 2.1625e-20 - val_acc: 1.0000\n",
            "Epoch 30/100\n",
            "863/863 [==============================] - 4s 4ms/step - loss: 2.0070e-20 - acc: 1.0000 - val_loss: 2.1625e-20 - val_acc: 1.0000\n",
            "Epoch 31/100\n",
            "863/863 [==============================] - 3s 4ms/step - loss: 2.0070e-20 - acc: 1.0000 - val_loss: 2.1625e-20 - val_acc: 1.0000\n",
            "Epoch 32/100\n",
            "863/863 [==============================] - 4s 5ms/step - loss: 2.0070e-20 - acc: 1.0000 - val_loss: 2.1625e-20 - val_acc: 1.0000\n",
            "Epoch 33/100\n",
            "863/863 [==============================] - 3s 4ms/step - loss: 2.0070e-20 - acc: 1.0000 - val_loss: 2.1625e-20 - val_acc: 1.0000\n",
            "Epoch 34/100\n",
            "863/863 [==============================] - 3s 4ms/step - loss: 2.0070e-20 - acc: 1.0000 - val_loss: 2.1625e-20 - val_acc: 1.0000\n",
            "Epoch 35/100\n",
            "863/863 [==============================] - 5s 5ms/step - loss: 2.0070e-20 - acc: 1.0000 - val_loss: 2.1625e-20 - val_acc: 1.0000\n",
            "Epoch 36/100\n",
            "863/863 [==============================] - 3s 4ms/step - loss: 2.0070e-20 - acc: 1.0000 - val_loss: 2.1625e-20 - val_acc: 1.0000\n",
            "Epoch 37/100\n",
            "863/863 [==============================] - 3s 4ms/step - loss: 2.0070e-20 - acc: 1.0000 - val_loss: 2.1625e-20 - val_acc: 1.0000\n",
            "Epoch 38/100\n",
            "863/863 [==============================] - 3s 4ms/step - loss: 2.0070e-20 - acc: 1.0000 - val_loss: 2.1625e-20 - val_acc: 1.0000\n",
            "Epoch 39/100\n",
            "863/863 [==============================] - 3s 4ms/step - loss: 2.0070e-20 - acc: 1.0000 - val_loss: 2.1625e-20 - val_acc: 1.0000\n",
            "Epoch 40/100\n",
            "863/863 [==============================] - 3s 4ms/step - loss: 2.0070e-20 - acc: 1.0000 - val_loss: 2.1625e-20 - val_acc: 1.0000\n",
            "Epoch 41/100\n",
            "863/863 [==============================] - 3s 4ms/step - loss: 2.0070e-20 - acc: 1.0000 - val_loss: 2.1625e-20 - val_acc: 1.0000\n",
            "Epoch 42/100\n",
            "863/863 [==============================] - 3s 4ms/step - loss: 2.0070e-20 - acc: 1.0000 - val_loss: 2.1625e-20 - val_acc: 1.0000\n",
            "Epoch 43/100\n",
            "863/863 [==============================] - 3s 4ms/step - loss: 2.0070e-20 - acc: 1.0000 - val_loss: 2.1625e-20 - val_acc: 1.0000\n",
            "Epoch 44/100\n",
            "863/863 [==============================] - 3s 4ms/step - loss: 2.0070e-20 - acc: 1.0000 - val_loss: 2.1625e-20 - val_acc: 1.0000\n",
            "Epoch 45/100\n",
            "863/863 [==============================] - 3s 4ms/step - loss: 2.0070e-20 - acc: 1.0000 - val_loss: 2.1625e-20 - val_acc: 1.0000\n",
            "Epoch 46/100\n",
            "863/863 [==============================] - 4s 4ms/step - loss: 2.0070e-20 - acc: 1.0000 - val_loss: 2.1625e-20 - val_acc: 1.0000\n",
            "Epoch 47/100\n",
            "863/863 [==============================] - 3s 4ms/step - loss: 2.0070e-20 - acc: 1.0000 - val_loss: 2.1625e-20 - val_acc: 1.0000\n",
            "Epoch 48/100\n",
            "863/863 [==============================] - 3s 4ms/step - loss: 2.0070e-20 - acc: 1.0000 - val_loss: 2.1625e-20 - val_acc: 1.0000\n",
            "Epoch 49/100\n",
            "863/863 [==============================] - 3s 4ms/step - loss: 2.0070e-20 - acc: 1.0000 - val_loss: 2.1625e-20 - val_acc: 1.0000\n",
            "Epoch 50/100\n",
            "863/863 [==============================] - 3s 4ms/step - loss: 2.0070e-20 - acc: 1.0000 - val_loss: 2.1625e-20 - val_acc: 1.0000\n",
            "Epoch 51/100\n",
            "863/863 [==============================] - 3s 4ms/step - loss: 2.0070e-20 - acc: 1.0000 - val_loss: 2.1625e-20 - val_acc: 1.0000\n",
            "Epoch 52/100\n",
            "863/863 [==============================] - 3s 4ms/step - loss: 2.0070e-20 - acc: 1.0000 - val_loss: 2.1625e-20 - val_acc: 1.0000\n",
            "Epoch 53/100\n",
            "863/863 [==============================] - 3s 4ms/step - loss: 2.0070e-20 - acc: 1.0000 - val_loss: 2.1625e-20 - val_acc: 1.0000\n",
            "Epoch 54/100\n",
            "863/863 [==============================] - 3s 4ms/step - loss: 2.0070e-20 - acc: 1.0000 - val_loss: 2.1625e-20 - val_acc: 1.0000\n",
            "Epoch 55/100\n",
            "863/863 [==============================] - 4s 4ms/step - loss: 2.0070e-20 - acc: 1.0000 - val_loss: 2.1625e-20 - val_acc: 1.0000\n",
            "Epoch 56/100\n",
            "863/863 [==============================] - 4s 4ms/step - loss: 2.0070e-20 - acc: 1.0000 - val_loss: 2.1625e-20 - val_acc: 1.0000\n",
            "Epoch 57/100\n",
            "863/863 [==============================] - 4s 4ms/step - loss: 2.0070e-20 - acc: 1.0000 - val_loss: 2.1625e-20 - val_acc: 1.0000\n",
            "Epoch 58/100\n",
            "863/863 [==============================] - 3s 4ms/step - loss: 2.0070e-20 - acc: 1.0000 - val_loss: 2.1625e-20 - val_acc: 1.0000\n",
            "Epoch 59/100\n",
            "863/863 [==============================] - 3s 4ms/step - loss: 2.0070e-20 - acc: 1.0000 - val_loss: 2.1625e-20 - val_acc: 1.0000\n",
            "Epoch 60/100\n",
            "863/863 [==============================] - 4s 5ms/step - loss: 2.0070e-20 - acc: 1.0000 - val_loss: 2.1625e-20 - val_acc: 1.0000\n",
            "Epoch 61/100\n",
            "863/863 [==============================] - 3s 4ms/step - loss: 2.0070e-20 - acc: 1.0000 - val_loss: 2.1625e-20 - val_acc: 1.0000\n",
            "Epoch 62/100\n",
            "863/863 [==============================] - 4s 4ms/step - loss: 2.0070e-20 - acc: 1.0000 - val_loss: 2.1625e-20 - val_acc: 1.0000\n",
            "Epoch 63/100\n",
            "863/863 [==============================] - 4s 4ms/step - loss: 2.0070e-20 - acc: 1.0000 - val_loss: 2.1625e-20 - val_acc: 1.0000\n",
            "Epoch 64/100\n",
            "863/863 [==============================] - 4s 4ms/step - loss: 2.0070e-20 - acc: 1.0000 - val_loss: 2.1625e-20 - val_acc: 1.0000\n",
            "Epoch 65/100\n",
            "863/863 [==============================] - 4s 4ms/step - loss: 2.0070e-20 - acc: 1.0000 - val_loss: 2.1625e-20 - val_acc: 1.0000\n",
            "Epoch 66/100\n",
            "863/863 [==============================] - 4s 4ms/step - loss: 2.0070e-20 - acc: 1.0000 - val_loss: 2.1625e-20 - val_acc: 1.0000\n",
            "Epoch 67/100\n",
            "863/863 [==============================] - 3s 4ms/step - loss: 2.0070e-20 - acc: 1.0000 - val_loss: 2.1625e-20 - val_acc: 1.0000\n",
            "Epoch 68/100\n",
            "863/863 [==============================] - 3s 4ms/step - loss: 2.0070e-20 - acc: 1.0000 - val_loss: 2.1625e-20 - val_acc: 1.0000\n",
            "Epoch 69/100\n",
            "863/863 [==============================] - 3s 4ms/step - loss: 2.0070e-20 - acc: 1.0000 - val_loss: 2.1625e-20 - val_acc: 1.0000\n",
            "Epoch 70/100\n",
            "863/863 [==============================] - 4s 4ms/step - loss: 2.0070e-20 - acc: 1.0000 - val_loss: 2.1625e-20 - val_acc: 1.0000\n",
            "Epoch 71/100\n",
            "863/863 [==============================] - 3s 4ms/step - loss: 2.0070e-20 - acc: 1.0000 - val_loss: 2.1625e-20 - val_acc: 1.0000\n",
            "Epoch 72/100\n",
            "863/863 [==============================] - 3s 4ms/step - loss: 2.0070e-20 - acc: 1.0000 - val_loss: 2.1625e-20 - val_acc: 1.0000\n",
            "Epoch 73/100\n",
            "863/863 [==============================] - 3s 4ms/step - loss: 2.0070e-20 - acc: 1.0000 - val_loss: 2.1625e-20 - val_acc: 1.0000\n",
            "Epoch 74/100\n",
            "863/863 [==============================] - 3s 4ms/step - loss: 2.0070e-20 - acc: 1.0000 - val_loss: 2.1625e-20 - val_acc: 1.0000\n",
            "Epoch 75/100\n",
            "863/863 [==============================] - 3s 4ms/step - loss: 2.0070e-20 - acc: 1.0000 - val_loss: 2.1625e-20 - val_acc: 1.0000\n",
            "Epoch 76/100\n",
            "863/863 [==============================] - 3s 4ms/step - loss: 2.0070e-20 - acc: 1.0000 - val_loss: 2.1625e-20 - val_acc: 1.0000\n",
            "Epoch 77/100\n",
            "863/863 [==============================] - 3s 4ms/step - loss: 2.0070e-20 - acc: 1.0000 - val_loss: 2.1625e-20 - val_acc: 1.0000\n",
            "Epoch 78/100\n",
            "863/863 [==============================] - 3s 4ms/step - loss: 2.0070e-20 - acc: 1.0000 - val_loss: 2.1625e-20 - val_acc: 1.0000\n",
            "Epoch 79/100\n",
            "863/863 [==============================] - 4s 4ms/step - loss: 2.0070e-20 - acc: 1.0000 - val_loss: 2.1625e-20 - val_acc: 1.0000\n",
            "Epoch 80/100\n",
            "863/863 [==============================] - 4s 4ms/step - loss: 2.0070e-20 - acc: 1.0000 - val_loss: 2.1625e-20 - val_acc: 1.0000\n",
            "Epoch 81/100\n",
            "863/863 [==============================] - 4s 4ms/step - loss: 2.0070e-20 - acc: 1.0000 - val_loss: 2.1625e-20 - val_acc: 1.0000\n",
            "Epoch 82/100\n",
            "863/863 [==============================] - 4s 4ms/step - loss: 2.0070e-20 - acc: 1.0000 - val_loss: 2.1625e-20 - val_acc: 1.0000\n",
            "Epoch 83/100\n",
            "863/863 [==============================] - 4s 4ms/step - loss: 2.0070e-20 - acc: 1.0000 - val_loss: 2.1625e-20 - val_acc: 1.0000\n",
            "Epoch 84/100\n",
            "863/863 [==============================] - 4s 4ms/step - loss: 2.0070e-20 - acc: 1.0000 - val_loss: 2.1625e-20 - val_acc: 1.0000\n",
            "Epoch 85/100\n",
            "863/863 [==============================] - 4s 4ms/step - loss: 2.0070e-20 - acc: 1.0000 - val_loss: 2.1625e-20 - val_acc: 1.0000\n",
            "Epoch 86/100\n",
            "863/863 [==============================] - 3s 4ms/step - loss: 2.0070e-20 - acc: 1.0000 - val_loss: 2.1625e-20 - val_acc: 1.0000\n",
            "Epoch 87/100\n",
            "863/863 [==============================] - 4s 4ms/step - loss: 2.0070e-20 - acc: 1.0000 - val_loss: 2.1625e-20 - val_acc: 1.0000\n",
            "Epoch 88/100\n",
            "863/863 [==============================] - 3s 4ms/step - loss: 2.0070e-20 - acc: 1.0000 - val_loss: 2.1625e-20 - val_acc: 1.0000\n",
            "Epoch 89/100\n",
            "863/863 [==============================] - 4s 4ms/step - loss: 2.0070e-20 - acc: 1.0000 - val_loss: 2.1625e-20 - val_acc: 1.0000\n",
            "Epoch 90/100\n",
            "863/863 [==============================] - 4s 4ms/step - loss: 2.0070e-20 - acc: 1.0000 - val_loss: 2.1625e-20 - val_acc: 1.0000\n",
            "Epoch 91/100\n",
            "863/863 [==============================] - 4s 5ms/step - loss: 2.0070e-20 - acc: 1.0000 - val_loss: 2.1625e-20 - val_acc: 1.0000\n",
            "Epoch 92/100\n",
            "863/863 [==============================] - 3s 4ms/step - loss: 2.0070e-20 - acc: 1.0000 - val_loss: 2.1625e-20 - val_acc: 1.0000\n",
            "Epoch 93/100\n",
            "863/863 [==============================] - 3s 4ms/step - loss: 2.0070e-20 - acc: 1.0000 - val_loss: 2.1625e-20 - val_acc: 1.0000\n",
            "Epoch 94/100\n",
            "863/863 [==============================] - 3s 4ms/step - loss: 2.0070e-20 - acc: 1.0000 - val_loss: 2.1625e-20 - val_acc: 1.0000\n",
            "Epoch 95/100\n",
            "863/863 [==============================] - 3s 4ms/step - loss: 2.0070e-20 - acc: 1.0000 - val_loss: 2.1625e-20 - val_acc: 1.0000\n",
            "Epoch 96/100\n",
            "863/863 [==============================] - 3s 4ms/step - loss: 2.0070e-20 - acc: 1.0000 - val_loss: 2.1625e-20 - val_acc: 1.0000\n",
            "Epoch 97/100\n",
            "863/863 [==============================] - 4s 4ms/step - loss: 2.0070e-20 - acc: 1.0000 - val_loss: 2.1625e-20 - val_acc: 1.0000\n",
            "Epoch 98/100\n",
            "863/863 [==============================] - 4s 4ms/step - loss: 2.0070e-20 - acc: 1.0000 - val_loss: 2.1625e-20 - val_acc: 1.0000\n",
            "Epoch 99/100\n",
            "863/863 [==============================] - 4s 4ms/step - loss: 2.0070e-20 - acc: 1.0000 - val_loss: 2.1625e-20 - val_acc: 1.0000\n",
            "Epoch 100/100\n",
            "863/863 [==============================] - 4s 4ms/step - loss: 2.0070e-20 - acc: 1.0000 - val_loss: 2.1625e-20 - val_acc: 1.0000\n"
          ]
        }
      ]
    },
    {
      "cell_type": "code",
      "source": [
        "import keras\n",
        "from matplotlib import pyplot as plt\n",
        "plt.plot(history.history['acc'])\n",
        "plt.plot(history.history['val_acc'])\n",
        "plt.title('model accuracy')\n",
        "plt.ylabel('accuracy')\n",
        "plt.xlabel('epoch')\n",
        "plt.legend(['train', 'val'], loc='upper left')\n",
        "plt.show()"
      ],
      "metadata": {
        "colab": {
          "base_uri": "https://localhost:8080/",
          "height": 295
        },
        "id": "-pNhV6BJCLPY",
        "outputId": "907a2f63-0eda-43bd-f518-4b4f40de927c"
      },
      "execution_count": null,
      "outputs": [
        {
          "output_type": "display_data",
          "data": {
            "text/plain": [
              "<Figure size 432x288 with 1 Axes>"
            ],
            "image/png": "[encoded data removed]"
          },
          "metadata": {
            "needs_background": "light"
          }
        }
      ]
    },
    {
      "cell_type": "code",
      "source": [
        "plt.plot(history.history['loss'])\n",
        "plt.plot(history.history['val_loss'])\n",
        "plt.title('model loss')\n",
        "plt.ylabel('loss')\n",
        "plt.xlabel('epoch')\n",
        "plt.legend(['train', 'val'], loc='upper left')\n",
        "plt.show()"
      ],
      "metadata": {
        "colab": {
          "base_uri": "https://localhost:8080/",
          "height": 295
        },
        "id": "sqc8_ONSCQ3z",
        "outputId": "ab6d8384-0e27-495f-8257-624c5d7d5eef"
      },
      "execution_count": null,
      "outputs": [
        {
          "output_type": "display_data",
          "data": {
            "text/plain": [
              "<Figure size 432x288 with 1 Axes>"
            ],
            "image/png": "[encoded data removed]"
          },
          "metadata": {
            "needs_background": "light"
          }
        }
      ]
    },
    {
      "cell_type": "code",
      "source": [
        "loss , accuracy = model.evaluate(X_test, Y_test)\n",
        "print('Accuracy: %.5f%%, Loss %f' % (100*accuracy, loss))"
      ],
      "metadata": {
        "colab": {
          "base_uri": "https://localhost:8080/"
        },
        "id": "JQl-VyeiHQk0",
        "outputId": "aaca72c0-8bc7-45ef-e9e7-e7fa3d84a013"
      },
      "execution_count": null,
      "outputs": [
        {
          "output_type": "stream",
          "name": "stdout",
          "text": [
            "390/390 [==============================] - 1s 3ms/step - loss: 1.9873e-20 - acc: 1.0000\n",
            "Accuracy: 100.00000%, Loss 0.000000\n"
          ]
        }
      ]
    },
    {
      "cell_type": "code",
      "source": [
        "y_pred = model.predict(X_test)\n",
        "y_true = np.reshape(Y_test, (Y_test.size, 1))\n",
        "y_pred[y_pred >= 0.99] = 1\n",
        "y_pred[y_pred < 0.99] = 0\n",
        "print(y_true.shape)\n",
        "print(y_pred.shape)"
      ],
      "metadata": {
        "id": "i5llR7cmEcNH",
        "colab": {
          "base_uri": "https://localhost:8080/"
        },
        "outputId": "c11ef535-67b1-497e-e6a8-d1d76df5edf6"
      },
      "execution_count": null,
      "outputs": [
        {
          "output_type": "stream",
          "name": "stdout",
          "text": [
            "(12452, 1)\n",
            "(12452, 1)\n"
          ]
        }
      ]
    },
    {
      "cell_type": "code",
      "source": [
        "from sklearn.metrics import classification_report\n",
        "print(classification_report(y_true, y_pred))"
      ],
      "metadata": {
        "colab": {
          "base_uri": "https://localhost:8080/"
        },
        "id": "-c9tHGgciSGo",
        "outputId": "9e892641-323b-4512-d815-b43569a61c16"
      },
      "execution_count": null,
      "outputs": [
        {
          "output_type": "stream",
          "name": "stdout",
          "text": [
            "              precision    recall  f1-score   support\n",
            "\n",
            "           0       1.00      1.00      1.00     12452\n",
            "\n",
            "    accuracy                           1.00     12452\n",
            "   macro avg       1.00      1.00      1.00     12452\n",
            "weighted avg       1.00      1.00      1.00     12452\n",
            "\n"
          ]
        }
      ]
    },
    {
      "cell_type": "code",
      "source": [
        "import matplotlib.pyplot as plt\n",
        "import seaborn as sns \n",
        "from sklearn.metrics import confusion_matrix\n",
        "fig, ax = plt.subplots(figsize=(10, 10))\n",
        "mat = confusion_matrix(y_true, y_pred)\n",
        "sns.heatmap(mat,square= True, annot=True, cbar= True, ax=ax)\n",
        "plt.xlabel(\"predicted value\")\n",
        "plt.ylabel(\"true value\")\n",
        "plt.show()"
      ],
      "metadata": {
        "colab": {
          "base_uri": "https://localhost:8080/",
          "height": 575
        },
        "id": "tBg9AUO1ZkaE",
        "outputId": "836e39ff-270b-4726-a825-9f627ec3372b"
      },
      "execution_count": null,
      "outputs": [
        {
          "output_type": "display_data",
          "data": {
            "text/plain": [
              "<Figure size 720x720 with 2 Axes>"
            ],
            "image/png": "[encoded data removed]"
          },
          "metadata": {
            "needs_background": "light"
          }
        }
      ]
    }
  ]
}